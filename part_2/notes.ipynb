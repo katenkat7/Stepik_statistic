{
 "cells": [
  {
   "cell_type": "code",
   "execution_count": 1,
   "metadata": {
    "collapsed": true,
    "ExecuteTime": {
     "end_time": "2023-12-24T12:21:23.085244300Z",
     "start_time": "2023-12-24T12:21:23.037794100Z"
    }
   },
   "outputs": [
    {
     "data": {
      "text/plain": "2"
     },
     "execution_count": 1,
     "metadata": {},
     "output_type": "execute_result"
    }
   ],
   "source": [
    "1+1"
   ]
  },
  {
   "cell_type": "markdown",
   "source": [
    "Орел выпал 40 раз, решка 20. Отличается ли вероятность выпадения решки и орла?\n",
    "А если\n",
    "Просто расчитывать разность квадратных отклонений ожидаемых и наблюдаемых частот - не самая хорошая идея,потому что нужно держать в голове, чему в принципе равнялось ожидаемое значение величины = нужно поделить на корень ожидаемого значения частоты.\n",
    "(Потому что флуктуация от наблюдаемого значения вокруг ожидаемого значения частоты пропорциональна корню из ожидаемого значения частоты)\n",
    "Расстояние хи^2 Пирсона:"
   ],
   "metadata": {
    "collapsed": false
   }
  },
  {
   "cell_type": "code",
   "execution_count": 2,
   "outputs": [],
   "source": [
    "def monet(N):\n",
    "    arr = np.random.randint(2, size=N)\n",
    "    tail = 0\n",
    "    eagle = 0\n",
    "    for i in arr:\n",
    "        if i == 0:\n",
    "            tail+=1\n",
    "        else:\n",
    "            eagle+=1\n",
    "    df = pd.DataFrame({\n",
    "        'Решка': [tail, tail/2],\n",
    "        'Орел': [eagle, eagle/2]\n",
    "    }, index=['O','E'])\n",
    "    st, p = stats.chisquare([tail,eagle])\n",
    "    if p < 0.05:\n",
    "        print('Отклоняем H0')\n",
    "    else:\n",
    "        print('Принимаем H0')\n",
    "    return df, st, p\n",
    "\n"
   ],
   "metadata": {
    "collapsed": false,
    "ExecuteTime": {
     "end_time": "2023-12-17T10:42:30.629118300Z",
     "start_time": "2023-12-17T10:42:30.608727400Z"
    }
   }
  },
  {
   "cell_type": "markdown",
   "source": [
    "Монах Грегор Иоганн выращивал горох трех цветов (бедняга надеялся, что это поможет ему сделать важное открытие).\n",
    "В одном из опытов эмпирическое распределение частот некоторого цвета гороха приняло следующий вид:\n",
    "18,55,27\n",
    "Чему будут равны ожидаемые значения частот, если предполагаемое теоретическое распределение имеет следующий вид:\n",
    "1:2:1"
   ],
   "metadata": {
    "collapsed": false
   }
  },
  {
   "cell_type": "code",
   "execution_count": 3,
   "outputs": [
    {
     "name": "stdout",
     "output_type": "stream",
     "text": [
      "expected =  25.0 50.0 25.0\n"
     ]
    }
   ],
   "source": [
    "ter_rasp_1 = (18+55+27)/4\n",
    "ter_rasp_2 = (18+55+27)/2\n",
    "print(\"expected = \",ter_rasp_1,ter_rasp_2,ter_rasp_1)"
   ],
   "metadata": {
    "collapsed": false,
    "ExecuteTime": {
     "end_time": "2023-12-17T10:55:16.127366700Z",
     "start_time": "2023-12-17T10:55:16.119813700Z"
    }
   }
  },
  {
   "cell_type": "markdown",
   "source": [
    "Рассчитайте расстояние хи-квадрат и введите получившееся значение с точностью хотя бы до одной цифры после запятой."
   ],
   "metadata": {
    "collapsed": false
   }
  },
  {
   "cell_type": "code",
   "execution_count": 11,
   "outputs": [
    {
     "data": {
      "text/plain": "Power_divergenceResult(statistic=2.62, pvalue=0.26982005638468687)"
     },
     "execution_count": 11,
     "metadata": {},
     "output_type": "execute_result"
    }
   ],
   "source": [
    "from scipy.stats import chisquare\n",
    "ods= (18,55,27)\n",
    "expected = (25.0, 50.0, 25.0)\n",
    "chisquare(ods,expected)"
   ],
   "metadata": {
    "collapsed": false,
    "ExecuteTime": {
     "end_time": "2023-12-17T11:02:24.078863500Z",
     "start_time": "2023-12-17T11:02:24.071017100Z"
    }
   }
  },
  {
   "cell_type": "markdown",
   "source": [
    "Ваши ставки! Как будет выглядеть распределение расстояния хи-квадрат в нашем эксперименте с монеткой при многократном повторении эксперимента (при условии, что верна нулевая гипотеза).\n",
    "\n",
    "Представьте, что мы при каждом повторении эксперимента рассчитываем расстояние хи - квадрат и в итоге строим гистограмму получившихся значений."
   ],
   "metadata": {
    "collapsed": false
   }
  },
  {
   "cell_type": "code",
   "execution_count": 13,
   "outputs": [
    {
     "data": {
      "text/plain": "<Figure size 640x480 with 1 Axes>",
      "image/png": "[encoded data removed]"
     },
     "metadata": {},
     "output_type": "display_data"
    }
   ],
   "source": [
    "import random\n",
    "import matplotlib.pyplot as plt\n",
    "\n",
    "y = []\n",
    "for i in range(100):\n",
    "\n",
    "    x = []\n",
    "    for i in range(60):\n",
    "        x.append(random.randint(0, 1))\n",
    "\n",
    "    y.append((x.count(0) - 30)**2 / 30 + (x.count(1) - 30)**2 / 30)\n",
    "plt.hist(y)\n",
    "plt.show()"
   ],
   "metadata": {
    "collapsed": false,
    "ExecuteTime": {
     "end_time": "2023-12-17T11:05:11.776705800Z",
     "start_time": "2023-12-17T11:05:10.872400800Z"
    }
   }
  },
  {
   "cell_type": "markdown",
   "source": [
    "Распределение хи-квадрат с k степенями свободы это распределение суммы квадратов независимых стандартных нормальных случайных величин."
   ],
   "metadata": {
    "collapsed": false
   }
  },
  {
   "cell_type": "markdown",
   "source": [
    "*Критическое значение*"
   ],
   "metadata": {
    "collapsed": false
   }
  },
  {
   "cell_type": "code",
   "execution_count": 14,
   "outputs": [
    {
     "data": {
      "text/plain": "5.991464547107979"
     },
     "execution_count": 14,
     "metadata": {},
     "output_type": "execute_result"
    }
   ],
   "source": [
    "from scipy.stats.distributions import chi2\n",
    "chi2.ppf(df=2, q=0.95)"
   ],
   "metadata": {
    "collapsed": false,
    "ExecuteTime": {
     "end_time": "2023-12-17T11:18:07.044511Z",
     "start_time": "2023-12-17T11:18:07.037623900Z"
    }
   }
  },
  {
   "cell_type": "markdown",
   "source": [
    "*Степени свободы*"
   ],
   "metadata": {
    "collapsed": false
   }
  },
  {
   "cell_type": "markdown",
   "source": [],
   "metadata": {
    "collapsed": false
   }
  },
  {
   "cell_type": "code",
   "execution_count": 18,
   "outputs": [
    {
     "data": {
      "text/plain": "<Figure size 640x480 with 1 Axes>",
      "image/png": "[encoded data removed]"
     },
     "metadata": {},
     "output_type": "display_data"
    }
   ],
   "source": [
    "import numpy as np\n",
    "import matplotlib.pyplot as plt\n",
    "from scipy.stats import chi2\n",
    "\n",
    "# Define degrees of freedom\n",
    "dfs = [0.1, 1, 2, 3, 4, 10]\n",
    "\n",
    "# Define x\n",
    "x = np.linspace(0, 20, 1000)\n",
    "\n",
    "# Plot the graphs\n",
    "for df in dfs:\n",
    "    plt.plot(x, chi2.pdf(x, df), label=f'df={df}')\n",
    "\n",
    "plt.xlabel('x')\n",
    "plt.ylabel('f(x)')\n",
    "plt.title('Chi-Square распределение')\n",
    "plt.legend()\n",
    "plt.show()"
   ],
   "metadata": {
    "collapsed": false,
    "ExecuteTime": {
     "end_time": "2023-12-17T11:30:11.879979800Z",
     "start_time": "2023-12-17T11:30:11.734213800Z"
    }
   }
  },
  {
   "cell_type": "markdown",
   "source": [
    "Я думаю, вы уловили идею, как рассчитать число степеней свободы для общего случая! Предположим, что мы теперь тестируем гипотезу о том, что наша игральная кость с шестью гранями абсолютно честная, и каждая грань выпадает с одинаковой частотой. Мы сделали 100 бросков и зафиксировали наблюдаемые частоты. Укажите число степеней свободы распределения хи-квадрат, которое мы получим в таком случае!\n",
    "--Число степеней свободы для распределения хи-квадрат в общем случае равно количеству категорий (граней) минус один. В нашем случае, если мы считаем, что каждая грань выпадает с одинаковой частотой, то число категорий равно шести. Таким образом, число степеней свободы будет равно 6 - 1 = 5."
   ],
   "metadata": {
    "collapsed": false
   }
  },
  {
   "cell_type": "markdown",
   "source": [
    "Какая доля наблюдений лежит в диапазоне от 2 до 4 у распределения хи-квадрат с двумя степенями свободы?"
   ],
   "metadata": {
    "collapsed": false
   }
  },
  {
   "cell_type": "code",
   "execution_count": 20,
   "outputs": [
    {
     "name": "stdout",
     "output_type": "stream",
     "text": [
      "Доля наблюдений, лежащих в диапазоне от 2 до 4, равна 0.23254415793482963\n"
     ]
    }
   ],
   "source": [
    "from scipy.stats import chi2\n",
    "\n",
    "# Число степеней свободы\n",
    "df = 2\n",
    "\n",
    "# Найдем долю наблюдений, лежащих в диапазоне от 2 до 4\n",
    "prob = chi2.cdf(4, df) - chi2.cdf(2, df)\n",
    "\n",
    "print(f'Доля наблюдений, лежащих в диапазоне от 2 до 4, равна {prob}')"
   ],
   "metadata": {
    "collapsed": false,
    "ExecuteTime": {
     "end_time": "2023-12-17T11:40:38.469889200Z",
     "start_time": "2023-12-17T11:40:38.450570400Z"
    }
   }
  },
  {
   "cell_type": "markdown",
   "source": [
    "Теперь рассчитаем p-уровень значимости для нашего примера с игральной костью. Напомню, что мы получили следующие значения наблюдаемых частот (от единички до шестерки):\n",
    "\n",
    "10,10,10,5,10,15\n",
    "\n",
    "Проверьте нулевую гипотезу о том, что эмпирическое распределение частот не отличается от равномерного. В поле для ответа введите получившийся p-уровень значимости"
   ],
   "metadata": {
    "collapsed": false
   }
  },
  {
   "cell_type": "markdown",
   "source": [
    "*Расчет p - value*"
   ],
   "metadata": {
    "collapsed": false
   }
  },
  {
   "cell_type": "code",
   "execution_count": 21,
   "outputs": [
    {
     "name": "stdout",
     "output_type": "stream",
     "text": [
      "p-value: 0.41588018699550794\n"
     ]
    }
   ],
   "source": [
    "from scipy.stats import chisquare\n",
    "\n",
    "# Наблюдаемые частоты\n",
    "observed_freq = [10, 10, 10, 5, 10, 15]\n",
    "\n",
    "# Ожидаемые частоты\n",
    "expected_freq = [sum(observed_freq)/6]*6\n",
    "\n",
    "# Вычисляем p-value\n",
    "chi2_stat, p_val = chisquare(observed_freq, expected_freq)\n",
    "\n",
    "print(f'p-value: {p_val}')"
   ],
   "metadata": {
    "collapsed": false,
    "ExecuteTime": {
     "end_time": "2023-12-17T11:43:44.922149900Z",
     "start_time": "2023-12-17T11:43:44.894184800Z"
    }
   }
  },
  {
   "cell_type": "markdown",
   "source": [],
   "metadata": {
    "collapsed": false
   }
  },
  {
   "cell_type": "markdown",
   "source": [
    "Вернемся к нашему примеру с политическими партиями! Проверьте гипотезу о том, что в ГС нет никаких различий в предпочтениях трех партий. Введите в поле для ответа получившееся значение статистики хи-квадрат с точностью хотя бы до одной цифры после запятой."
   ],
   "metadata": {
    "collapsed": false
   }
  },
  {
   "cell_type": "code",
   "execution_count": 31,
   "outputs": [
    {
     "data": {
      "text/plain": "<Figure size 640x480 with 1 Axes>",
      "image/png": "[encoded data removed]"
     },
     "metadata": {},
     "output_type": "display_data"
    }
   ],
   "source": [
    "import matplotlib.pyplot as plt\n",
    "\n",
    "# Данные\n",
    "parties = ['A', 'B', 'В']\n",
    "votes = [10, 30, 50]\n",
    "\n",
    "# Построение графика\n",
    "plt.bar(parties, votes)\n",
    "plt.xlabel('Партии')\n",
    "plt.ylabel('Количество голосов')\n",
    "plt.title('Голоса за партии')\n",
    "plt.show()"
   ],
   "metadata": {
    "collapsed": false,
    "ExecuteTime": {
     "end_time": "2023-12-17T11:54:47.771847800Z",
     "start_time": "2023-12-17T11:54:47.555748800Z"
    }
   }
  },
  {
   "cell_type": "code",
   "execution_count": 32,
   "outputs": [
    {
     "name": "stdout",
     "output_type": "stream",
     "text": [
      "Ожидаемые значения частот: 30, 30, 30\n",
      "P-значение: 1.61959679231261e-06\n",
      "Хи-квадрат статистика: 26.666666666666668\n"
     ]
    }
   ],
   "source": [
    "import numpy as np\n",
    "from scipy.stats import chisquare\n",
    "\n",
    "# Наблюдаемое распределение\n",
    "observed_values = np.array([10, 30, 50])\n",
    "# Ожидаемое распределение\n",
    "expected_ratio = np.array([1, 1, 1])\n",
    "\n",
    "expected_values = expected_ratio * observed_values.sum() / expected_ratio.sum()\n",
    "print(f'Ожидаемые значения частот: {\", \".join(map(str, map(int, expected_values)))}')\n",
    "\n",
    "# Проведение хи-квадрат теста\n",
    "chi2, p_value = chisquare(f_obs=observed_values, f_exp=expected_values)\n",
    "print(f'P-значение: {p_value}')\n",
    "print(f'Хи-квадрат статистика: {chi2}')"
   ],
   "metadata": {
    "collapsed": false,
    "ExecuteTime": {
     "end_time": "2023-12-17T11:55:34.249392700Z",
     "start_time": "2023-12-17T11:55:34.224336600Z"
    }
   }
  },
  {
   "cell_type": "markdown",
   "source": [
    "Проинтерпретируем  полученный результат:\n",
    "p < 0,05. Отклоняем нулевую гипотезу"
   ],
   "metadata": {
    "collapsed": false
   }
  },
  {
   "cell_type": "markdown",
   "source": [
    "Недавно я пришел на лекцию в Институт биоинформатики и обнаружил, что в группе различное число студентов женского и мужского пола: 15 юношей и 9 девушек. Возможно, кого-то это и могло бы оставить равнодушным, а я вот сразу взял лист бумаги и ручку, чтобы проверить гипотезу о том, что распределение частот девушек и юношей не отличается от равномерного в генеральной совокупности биоинформатиков!"
   ],
   "metadata": {
    "collapsed": false
   }
  },
  {
   "cell_type": "code",
   "execution_count": 36,
   "outputs": [
    {
     "name": "stdout",
     "output_type": "stream",
     "text": [
      "Критерий хи-квадрат Пирсона: 1.5\n",
      "P-value: 0.22067136191984324\n"
     ]
    }
   ],
   "source": [
    "import scipy.stats as stats\n",
    "\n",
    "# Число юношей и девушек\n",
    "male = 15\n",
    "female = 9\n",
    "\n",
    "# Общее число студентов\n",
    "total = male + female\n",
    "\n",
    "# Ожидаемая частота для юношей и девушек\n",
    "expected = total / 2\n",
    "\n",
    "# Наблюдаемые частоты\n",
    "observed = [male, female]\n",
    "\n",
    "# Вычисляем критерий хи-квадрат Пирсона\n",
    "chi2, p = stats.chisquare(observed, [expected, expected])\n",
    "\n",
    "print(f'Критерий хи-квадрат Пирсона: {chi2}')\n",
    "print(f'P-value: {p}')"
   ],
   "metadata": {
    "collapsed": false,
    "ExecuteTime": {
     "end_time": "2023-12-17T12:10:25.432575200Z",
     "start_time": "2023-12-17T12:10:25.387095500Z"
    }
   }
  },
  {
   "cell_type": "markdown",
   "source": [
    "В 2013 году Эдвард Сноуден передал СМИ секретную информацию АНБ, касающуюся слежки американских спецслужб за информационными коммуникациями между гражданами. Однако ﻿его поступок вызвал неоднозначную реакцию в обществе. Исследовательский центр USA TODAY провел опрос 1500 граждан США с целью выяснить, воспринимают ли они поступок Сноудена как положительный или отрицательный. 53% опрошенных респондентов оценили разоблачение положительно.\n",
    "\n",
    "При помощи теста хи-квадрат проверьте нулевую гипотезу о том, что в генеральной совокупности распределение отношения к поступку Сноудена является равномерным, то есть 50 на 50. Найдите p-уровень значимости для проверки этой гипотезы."
   ],
   "metadata": {
    "collapsed": false
   }
  },
  {
   "cell_type": "code",
   "execution_count": 37,
   "outputs": [
    {
     "name": "stdout",
     "output_type": "stream",
     "text": [
      "Критерий хи-квадрат Пирсона: 5.4\n",
      "P-value: 0.020136751550346325\n"
     ]
    }
   ],
   "source": [
    "import scipy.stats as stats\n",
    "\n",
    "# Общее число опрошенных\n",
    "total = 1500\n",
    "\n",
    "# Число положительных ответов\n",
    "positive = 53/100 * total\n",
    "\n",
    "# Число отрицательных ответов\n",
    "negative = total - positive\n",
    "\n",
    "# Ожидаемая частота для положительных и отрицательных ответов\n",
    "expected = total / 2\n",
    "\n",
    "# Наблюдаемые частоты\n",
    "observed = [positive, negative]\n",
    "\n",
    "# Вычисляем критерий хи-квадрат Пирсона\n",
    "chi2, p = stats.chisquare(observed, [expected, expected])\n",
    "\n",
    "print(f'Критерий хи-квадрат Пирсона: {chi2}')\n",
    "print(f'P-value: {p}')"
   ],
   "metadata": {
    "collapsed": false,
    "ExecuteTime": {
     "end_time": "2023-12-17T12:11:39.654695400Z",
     "start_time": "2023-12-17T12:11:39.616760100Z"
    }
   }
  },
  {
   "cell_type": "markdown",
   "source": [
    "*Анализ таблиц сопряженности*\n",
    "\n",
    "|               | Юноши | Девушки |\n",
    "|---------------|-------|---------|\n",
    "| Биологи       | 15    | 9       |\n",
    "| Информатики = | 11    | 6       |\n",
    "Две номинативные переменные пол и профессия, обе с двумя градациями.\n",
    "Нулевая гипотеза - распределение не отличается от ожидаемого.\n",
    "Альтернативная гипотеза – распределение отличается или иными словами: две переменные взаимосвязаны между собой"
   ],
   "metadata": {
    "collapsed": false
   }
  },
  {
   "cell_type": "markdown",
   "source": [
    "Расчет ожидаемых значений\n",
    "\n",
    "|               | Юноши | Девушки | Всего |\n",
    "|---------------|-------|---------|-------|\n",
    "| Биологи       | 15    | 9       | 24    |\n",
    "| Информатики = | 11    | 6       | 17    |\n",
    "| Всего         | 26    | 15      | 41    |\n",
    "\n",
    "Юношей 26 человек из 41 – 63.4 %\n",
    "Девушек 15 человек из 41 – 36.6 %\n",
    "Примем нулевую гипотезу, что профессия никак не связана с полом, тогда юноши должны с равной частотой наблюдаться у информатиков и биологов.\n",
    "63.4 % от 24 и 17 составляют 15.2 и 10.8 соответственно.\n",
    "36.6 % от 24 и 17 составляет 8.8 и 6.2 соответственно."
   ],
   "metadata": {
    "collapsed": false
   }
  },
  {
   "cell_type": "markdown",
   "source": [
    "**Расчет критерия**"
   ],
   "metadata": {
    "collapsed": false
   }
  },
  {
   "cell_type": "code",
   "execution_count": 45,
   "outputs": [
    {
     "name": "stdout",
     "output_type": "stream",
     "text": [
      "Chi2ContingencyResult(statistic=0.0, pvalue=1.0, dof=1, expected_freq=array([[15.2195122,  8.7804878],\n",
      "       [10.7804878,  6.2195122]]))\n"
     ]
    }
   ],
   "source": [
    "import scipy.stats as sps\n",
    "sps.contingency.expected_freq(([15, 9], [11, 6]))\n",
    "chi2 = chi2_contingency(observed_values)\n",
    "print(chi2)"
   ],
   "metadata": {
    "collapsed": false,
    "ExecuteTime": {
     "end_time": "2023-12-17T12:52:06.229520700Z",
     "start_time": "2023-12-17T12:52:06.188604500Z"
    }
   }
  },
  {
   "cell_type": "markdown",
   "source": [
    "В таблице представлены результаты эксперимента, направленного на проверку гипотезы о взаимосвязи двух номинативных переменных с двумя градациями. Рассчитайте ожидаемые частоты для проверки нулевой гипотезы о независимости двух переменных X и Y.\n",
    "\n",
    "\n",
    "|                           | Первая градация фактора Х | Вторая градация фактора Х |\n",
    "|---------------------------|---------------------------|---------------------------|\n",
    "| Первая градация фактора Y | 10                        | 6                         |\n",
    "| Вторая градация фактора Y | 5                         | 15                        |"
   ],
   "metadata": {
    "collapsed": false
   }
  },
  {
   "cell_type": "code",
   "execution_count": 39,
   "outputs": [
    {
     "data": {
      "text/plain": "array([[ 6.66666667,  9.33333333],\n       [ 8.33333333, 11.66666667]])"
     },
     "execution_count": 39,
     "metadata": {},
     "output_type": "execute_result"
    }
   ],
   "source": [
    "import scipy.stats as sps\n",
    "\n",
    "sps.contingency.expected_freq(([10, 6], [5, 15]))"
   ],
   "metadata": {
    "collapsed": false,
    "ExecuteTime": {
     "end_time": "2023-12-17T12:26:16.284550100Z",
     "start_time": "2023-12-17T12:26:16.256636500Z"
    }
   }
  },
  {
   "cell_type": "markdown",
   "source": [
    "**Критерий χ2 - Пирсона**\n",
    "Проверяет гипотезу о том, что наблюдаемое распределение номинативной переменной отличается от ожидаемого.\n",
    "Для одной номинативной переменной df = n – 1, где n - количество столбцов таблицы.\n",
    "Для таблиц сопряженности df = (n – 1) * (m – 1), где n - количество столбцов таблицы, m – число строк таблицы.\n",
    "Все наблюдения независимы\n",
    "Минимальное количество наблюдений в каждой из ячеек должно быть больше 5\n",
    "\n",
    "**Поправка Йетса**\n",
    "\n",
    "В теории распределение χ2 непрерывно, тогда как вычисляемые  значения всегда дискретны, в результате Ho может отвергаться слишком часто. Чтобы скорректировать значения p - уровня значимости применяется поправка Йетса на непрерывность.\n",
    "*Обычно применяется, когда некоторые ожидаемые частоты меньше 10.*\n",
    "\n",
    "При проверке гипотезы о взаимосвязи двух номинативных переменных мы можем принять альтернативную гипотезу, если в таблице есть значимые отклонения между наблюдаемыми и ожидаемыми значениями хотя бы в некоторых ячейках"
   ],
   "metadata": {
    "collapsed": false
   }
  },
  {
   "cell_type": "markdown",
   "source": [
    "Перед знаком стоп некоторые водители останавливаются полностью, другие лишь сбавляют скорость, но некоторые не останавливаются вообще. Важнейший вопрос, есть ли взаимосвязь между полом и стилем вождения автомобиля!  Ниже представлена таблица сопряженности данных исследования, посвященного этому вопросу\n",
    "\n",
    "|                | Мужчины | Женщины |\n",
    "|----------------|---------|---------|\n",
    "| Тормозят       | 20      | 15      |\n",
    "| Притормаживают | 11      | 12      |\n",
    "| Не тормозят    | 7       | 9       |"
   ],
   "metadata": {
    "collapsed": false
   }
  },
  {
   "cell_type": "code",
   "execution_count": 49,
   "outputs": [
    {
     "name": "stdout",
     "output_type": "stream",
     "text": [
      "\n",
      "Хи квадрат 0.9544070774762996\n",
      "p - value 0.6205162173513055\n",
      "Степеней свобод 2\n",
      "Ожидаемые наблюдения\n",
      "[[17.97297297 17.02702703]\n",
      " [11.81081081 11.18918919]\n",
      " [ 8.21621622  7.78378378]]\n",
      "\n"
     ]
    }
   ],
   "source": [
    "import scipy.stats as sps\n",
    "chi2, p_value, dof, ev = stats.chi2_contingency(([20,15],[11,12],[7,9]))\n",
    "print(f'''\n",
    "Хи квадрат {chi2}\n",
    "p - value {p_value}\n",
    "Степеней свобод {dof}\n",
    "Ожидаемые наблюдения\n",
    "{ev}\n",
    "''')"
   ],
   "metadata": {
    "collapsed": false,
    "ExecuteTime": {
     "end_time": "2023-12-17T12:59:09.647744700Z",
     "start_time": "2023-12-17T12:59:09.604131100Z"
    }
   }
  },
  {
   "cell_type": "markdown",
   "source": [
    "При проверке гипотезы о взаимосвязи двух номинативных переменных с двумя градациями (таблица сопряженности два на два), если на самом деле верна нулевая гипотеза и никакой взаимосвязи между переменными в генеральной совокупности нет, то справедливы следующие утверждения:\n",
    "\n",
    "*Распределение статистики хи-квадрат будет обладать значительной асимметрией\n",
    "\n",
    "*Число степеней свободы будет равняться одному"
   ],
   "metadata": {
    "collapsed": false
   }
  },
  {
   "cell_type": "markdown",
   "source": [
    "Нельзя ли снизить риск тромбоза назначением небольших\n",
    "доз аспирина (160 мг/сут)?\n",
    "\n",
    "|         | Есть тромбоз | Нет тромбоза |\n",
    "|---------|--------------|--------------|\n",
    "| Плацебо | 18           | 7            |\n",
    "| Аспирин | 6            | 13           |\n"
   ],
   "metadata": {
    "collapsed": false
   }
  },
  {
   "cell_type": "code",
   "execution_count": 52,
   "outputs": [
    {
     "name": "stdout",
     "output_type": "stream",
     "text": [
      "x-squared = 5.57719298245614 p-value = 0.018195864430772903 df = 1\n"
     ]
    }
   ],
   "source": [
    "from scipy import stats\n",
    "import numpy as np\n",
    "\n",
    "observed = np.array([[18, 7], [6, 13]])\n",
    "chi2, p, df, expected = stats.chi2_contingency(observed)\n",
    "print ('x-squared =', chi2,\n",
    "       'p-value =', p,\n",
    "       'df =', df)\n"
   ],
   "metadata": {
    "collapsed": false,
    "ExecuteTime": {
     "end_time": "2023-12-17T13:07:10.299463300Z",
     "start_time": "2023-12-17T13:07:10.256068900Z"
    }
   }
  },
  {
   "cell_type": "code",
   "execution_count": 60,
   "outputs": [
    {
     "data": {
      "text/plain": "<Figure size 640x480 with 3 Axes>",
      "image/png": "[encoded data removed]"
     },
     "metadata": {},
     "output_type": "display_data"
    }
   ],
   "source": [
    "from itertools import product\n",
    "import pandas as pd\n",
    "import matplotlib.pyplot as plt\n",
    "\n",
    "tuples = list(product(['Placebo', 'Aspirine'], ['Yes', 'No']))\n",
    "index = pd.MultiIndex.from_tuples(tuples)\n",
    "data = pd.Series([18,7,6,13], index=index)\n",
    "mosaic(data, title='hierarchical index series')\n",
    "plt.show()"
   ],
   "metadata": {
    "collapsed": false,
    "ExecuteTime": {
     "end_time": "2023-12-17T13:14:05.794080300Z",
     "start_time": "2023-12-17T13:14:05.497563200Z"
    }
   }
  },
  {
   "cell_type": "markdown",
   "source": [
    "**Точный критерий Фишера**\n",
    "\n",
    "\n",
    "|             | Поправился | Не поправился |\n",
    "|-------------|------------|---------------|\n",
    "| Лекарство 1 | 3          | 1             |\n",
    "| Лекарство 2 | 1          | 3             |"
   ],
   "metadata": {
    "collapsed": false
   }
  },
  {
   "cell_type": "code",
   "execution_count": 62,
   "outputs": [
    {
     "name": "stdout",
     "output_type": "stream",
     "text": [
      "0.6205162173513055\n"
     ]
    }
   ],
   "source": [
    "odds_ratio, pvalue = stats.fisher_exact([[1, 3], [3, 1]])  # odds_ratio- отношение шансов\n",
    "print(p_value)"
   ],
   "metadata": {
    "collapsed": false,
    "ExecuteTime": {
     "end_time": "2023-12-17T13:37:12.978555400Z",
     "start_time": "2023-12-17T13:37:12.935089200Z"
    }
   }
  },
  {
   "cell_type": "code",
   "execution_count": 63,
   "outputs": [
    {
     "name": "stdout",
     "output_type": "stream",
     "text": [
      "c1= 0.014\n",
      "c2= 0.229\n",
      "cf = 0.486\n",
      "c3= 0.229\n",
      "c4= 0.014\n",
      "cf = 0.486\n"
     ]
    }
   ],
   "source": [
    "from itertools import combinations\n",
    "\n",
    "def C(n, k):\n",
    "    return len(list(combinations(range(n), k)))\n",
    "\n",
    "def CF (a, b, c, d):\n",
    "    n = a + b + c + d\n",
    "    return C(a + b, a) * C(c + d, c) / C(n, a + c)\n",
    "\n",
    "a, b, c, d = 4, 0, 0, 4\n",
    "c1 = CF (a, b, c, d)\n",
    "print (\"c1=\", round(c1, 3))\n",
    "\n",
    "a, b, c, d = 1, 3, 3, 1\n",
    "c2 = CF (a, b, c, d)\n",
    "print (\"c2=\", round(c2, 3))\n",
    "\n",
    "print(\"cf =\", round((c1 + c2) * 2, 3))\n",
    "\n",
    "#Или/и\n",
    "\n",
    "a, b, c, d = 3, 1, 1, 3\n",
    "c3 = CF (a, b, c, d)\n",
    "print (\"c3=\", round(c3, 3))\n",
    "\n",
    "a, b, c, d = 0, 4, 4, 0\n",
    "c4 = CF (a, b, c, d)\n",
    "print (\"c4=\", round(c4, 3))\n",
    "\n",
    "print(\"cf =\", round((c1 + c2 + c3 + c4), 3))"
   ],
   "metadata": {
    "collapsed": false,
    "ExecuteTime": {
     "end_time": "2023-12-17T13:38:34.028365300Z",
     "start_time": "2023-12-17T13:38:33.997187500Z"
    }
   }
  },
  {
   "cell_type": "markdown",
   "source": [
    "**Логистическая регрессия. Постановка задачи**"
   ],
   "metadata": {
    "collapsed": false
   }
  },
  {
   "cell_type": "markdown",
   "source": [],
   "metadata": {
    "collapsed": false
   }
  },
  {
   "cell_type": "code",
   "execution_count": null,
   "outputs": [],
   "source": [
    "1) Предположим, мы подбросили монетку 100 раз, и 70 раз выпал орел. Чему равняется натуральный логарифм шансов выпадения решки?\n",
    "р(Орел) = 0,7\n",
    "р(Решка) = 0,3\n",
    "Шанс - отношение вероятности успеха к вероятности неудачи (удача - решка)\n",
    "odds(Решка) = 0,3/0,7"
   ],
   "metadata": {
    "collapsed": false
   }
  },
  {
   "cell_type": "code",
   "execution_count": 64,
   "outputs": [
    {
     "data": {
      "text/plain": "-0.8472978603872037"
     },
     "execution_count": 64,
     "metadata": {},
     "output_type": "execute_result"
    }
   ],
   "source": [
    "np.log(30/70)"
   ],
   "metadata": {
    "collapsed": false,
    "ExecuteTime": {
     "end_time": "2023-12-17T14:39:25.490071700Z",
     "start_time": "2023-12-17T14:39:25.479081200Z"
    }
   }
  },
  {
   "cell_type": "markdown",
   "source": [
    "2) Предположим, что мы получили логарифм шансов выпадения решки, равный -1. Тогда вероятность выпадения решки равняется:"
   ],
   "metadata": {
    "collapsed": false
   }
  },
  {
   "cell_type": "code",
   "execution_count": 65,
   "outputs": [
    {
     "name": "stdout",
     "output_type": "stream",
     "text": [
      "0.2689414213699951\n"
     ]
    }
   ],
   "source": [
    "p = -1\n",
    "print(np.exp(p)/(1+np.exp(p)))"
   ],
   "metadata": {
    "collapsed": false,
    "ExecuteTime": {
     "end_time": "2023-12-17T14:40:19.514185600Z",
     "start_time": "2023-12-17T14:40:19.507903600Z"
    }
   }
  },
  {
   "cell_type": "markdown",
   "source": [
    "Рассчитайте логарифм шанса, того что случайно выбранный человек из нашей выборки окажется биологом."
   ],
   "metadata": {
    "collapsed": false
   }
  },
  {
   "cell_type": "code",
   "execution_count": 67,
   "outputs": [
    {
     "name": "stdout",
     "output_type": "stream",
     "text": [
      "0.3448404862917296\n"
     ]
    }
   ],
   "source": [
    "print(np.log(24/(41-24)))"
   ],
   "metadata": {
    "collapsed": false,
    "ExecuteTime": {
     "end_time": "2023-12-17T14:42:01.481338200Z",
     "start_time": "2023-12-17T14:42:01.473382500Z"
    }
   }
  },
  {
   "cell_type": "markdown",
   "source": [
    "Модель без предикторов. Intercept only model"
   ],
   "metadata": {
    "collapsed": false
   }
  },
  {
   "cell_type": "markdown",
   "source": [
    "Intercept - натуральный логарифм шансов положительного исхода.\n",
    "Чтобы рассчитать шанс положительного исхода, нужно расчитать экспоненту значения intercept."
   ],
   "metadata": {
    "collapsed": false
   }
  },
  {
   "cell_type": "code",
   "execution_count": 69,
   "outputs": [
    {
     "ename": "FileNotFoundError",
     "evalue": "[Errno 2] No such file or directory: 'titanic.csv'",
     "output_type": "error",
     "traceback": [
      "\u001B[1;31m---------------------------------------------------------------------------\u001B[0m",
      "\u001B[1;31mFileNotFoundError\u001B[0m                         Traceback (most recent call last)",
      "Cell \u001B[1;32mIn[69], line 11\u001B[0m\n\u001B[0;32m      7\u001B[0m \u001B[38;5;28;01mimport\u001B[39;00m \u001B[38;5;21;01mstatsmodels\u001B[39;00m\u001B[38;5;21;01m.\u001B[39;00m\u001B[38;5;21;01mformula\u001B[39;00m\u001B[38;5;21;01m.\u001B[39;00m\u001B[38;5;21;01mapi\u001B[39;00m \u001B[38;5;28;01mas\u001B[39;00m \u001B[38;5;21;01msmf\u001B[39;00m\n\u001B[0;32m      8\u001B[0m \u001B[38;5;28;01mfrom\u001B[39;00m \u001B[38;5;21;01mscipy\u001B[39;00m \u001B[38;5;28;01mimport\u001B[39;00m stats\n\u001B[1;32m---> 11\u001B[0m df \u001B[38;5;241m=\u001B[39m \u001B[43mpd\u001B[49m\u001B[38;5;241;43m.\u001B[39;49m\u001B[43mread_csv\u001B[49m\u001B[43m(\u001B[49m\u001B[38;5;124;43m'\u001B[39;49m\u001B[38;5;124;43mtitanic.csv\u001B[39;49m\u001B[38;5;124;43m'\u001B[39;49m\u001B[43m)\u001B[49m\n\u001B[0;32m     12\u001B[0m df\u001B[38;5;241m.\u001B[39mSurvived\u001B[38;5;241m.\u001B[39mvalue_counts()\n\u001B[0;32m     13\u001B[0m np\u001B[38;5;241m.\u001B[39mlog(\u001B[38;5;241m342\u001B[39m\u001B[38;5;241m/\u001B[39m\u001B[38;5;241m549\u001B[39m)\n",
      "File \u001B[1;32m~\\PycharmProjects\\Stepik_statistic\\venv\\Lib\\site-packages\\pandas\\io\\parsers\\readers.py:948\u001B[0m, in \u001B[0;36mread_csv\u001B[1;34m(filepath_or_buffer, sep, delimiter, header, names, index_col, usecols, dtype, engine, converters, true_values, false_values, skipinitialspace, skiprows, skipfooter, nrows, na_values, keep_default_na, na_filter, verbose, skip_blank_lines, parse_dates, infer_datetime_format, keep_date_col, date_parser, date_format, dayfirst, cache_dates, iterator, chunksize, compression, thousands, decimal, lineterminator, quotechar, quoting, doublequote, escapechar, comment, encoding, encoding_errors, dialect, on_bad_lines, delim_whitespace, low_memory, memory_map, float_precision, storage_options, dtype_backend)\u001B[0m\n\u001B[0;32m    935\u001B[0m kwds_defaults \u001B[38;5;241m=\u001B[39m _refine_defaults_read(\n\u001B[0;32m    936\u001B[0m     dialect,\n\u001B[0;32m    937\u001B[0m     delimiter,\n\u001B[1;32m   (...)\u001B[0m\n\u001B[0;32m    944\u001B[0m     dtype_backend\u001B[38;5;241m=\u001B[39mdtype_backend,\n\u001B[0;32m    945\u001B[0m )\n\u001B[0;32m    946\u001B[0m kwds\u001B[38;5;241m.\u001B[39mupdate(kwds_defaults)\n\u001B[1;32m--> 948\u001B[0m \u001B[38;5;28;01mreturn\u001B[39;00m \u001B[43m_read\u001B[49m\u001B[43m(\u001B[49m\u001B[43mfilepath_or_buffer\u001B[49m\u001B[43m,\u001B[49m\u001B[43m \u001B[49m\u001B[43mkwds\u001B[49m\u001B[43m)\u001B[49m\n",
      "File \u001B[1;32m~\\PycharmProjects\\Stepik_statistic\\venv\\Lib\\site-packages\\pandas\\io\\parsers\\readers.py:611\u001B[0m, in \u001B[0;36m_read\u001B[1;34m(filepath_or_buffer, kwds)\u001B[0m\n\u001B[0;32m    608\u001B[0m _validate_names(kwds\u001B[38;5;241m.\u001B[39mget(\u001B[38;5;124m\"\u001B[39m\u001B[38;5;124mnames\u001B[39m\u001B[38;5;124m\"\u001B[39m, \u001B[38;5;28;01mNone\u001B[39;00m))\n\u001B[0;32m    610\u001B[0m \u001B[38;5;66;03m# Create the parser.\u001B[39;00m\n\u001B[1;32m--> 611\u001B[0m parser \u001B[38;5;241m=\u001B[39m \u001B[43mTextFileReader\u001B[49m\u001B[43m(\u001B[49m\u001B[43mfilepath_or_buffer\u001B[49m\u001B[43m,\u001B[49m\u001B[43m \u001B[49m\u001B[38;5;241;43m*\u001B[39;49m\u001B[38;5;241;43m*\u001B[39;49m\u001B[43mkwds\u001B[49m\u001B[43m)\u001B[49m\n\u001B[0;32m    613\u001B[0m \u001B[38;5;28;01mif\u001B[39;00m chunksize \u001B[38;5;129;01mor\u001B[39;00m iterator:\n\u001B[0;32m    614\u001B[0m     \u001B[38;5;28;01mreturn\u001B[39;00m parser\n",
      "File \u001B[1;32m~\\PycharmProjects\\Stepik_statistic\\venv\\Lib\\site-packages\\pandas\\io\\parsers\\readers.py:1448\u001B[0m, in \u001B[0;36mTextFileReader.__init__\u001B[1;34m(self, f, engine, **kwds)\u001B[0m\n\u001B[0;32m   1445\u001B[0m     \u001B[38;5;28mself\u001B[39m\u001B[38;5;241m.\u001B[39moptions[\u001B[38;5;124m\"\u001B[39m\u001B[38;5;124mhas_index_names\u001B[39m\u001B[38;5;124m\"\u001B[39m] \u001B[38;5;241m=\u001B[39m kwds[\u001B[38;5;124m\"\u001B[39m\u001B[38;5;124mhas_index_names\u001B[39m\u001B[38;5;124m\"\u001B[39m]\n\u001B[0;32m   1447\u001B[0m \u001B[38;5;28mself\u001B[39m\u001B[38;5;241m.\u001B[39mhandles: IOHandles \u001B[38;5;241m|\u001B[39m \u001B[38;5;28;01mNone\u001B[39;00m \u001B[38;5;241m=\u001B[39m \u001B[38;5;28;01mNone\u001B[39;00m\n\u001B[1;32m-> 1448\u001B[0m \u001B[38;5;28mself\u001B[39m\u001B[38;5;241m.\u001B[39m_engine \u001B[38;5;241m=\u001B[39m \u001B[38;5;28;43mself\u001B[39;49m\u001B[38;5;241;43m.\u001B[39;49m\u001B[43m_make_engine\u001B[49m\u001B[43m(\u001B[49m\u001B[43mf\u001B[49m\u001B[43m,\u001B[49m\u001B[43m \u001B[49m\u001B[38;5;28;43mself\u001B[39;49m\u001B[38;5;241;43m.\u001B[39;49m\u001B[43mengine\u001B[49m\u001B[43m)\u001B[49m\n",
      "File \u001B[1;32m~\\PycharmProjects\\Stepik_statistic\\venv\\Lib\\site-packages\\pandas\\io\\parsers\\readers.py:1705\u001B[0m, in \u001B[0;36mTextFileReader._make_engine\u001B[1;34m(self, f, engine)\u001B[0m\n\u001B[0;32m   1703\u001B[0m     \u001B[38;5;28;01mif\u001B[39;00m \u001B[38;5;124m\"\u001B[39m\u001B[38;5;124mb\u001B[39m\u001B[38;5;124m\"\u001B[39m \u001B[38;5;129;01mnot\u001B[39;00m \u001B[38;5;129;01min\u001B[39;00m mode:\n\u001B[0;32m   1704\u001B[0m         mode \u001B[38;5;241m+\u001B[39m\u001B[38;5;241m=\u001B[39m \u001B[38;5;124m\"\u001B[39m\u001B[38;5;124mb\u001B[39m\u001B[38;5;124m\"\u001B[39m\n\u001B[1;32m-> 1705\u001B[0m \u001B[38;5;28mself\u001B[39m\u001B[38;5;241m.\u001B[39mhandles \u001B[38;5;241m=\u001B[39m \u001B[43mget_handle\u001B[49m\u001B[43m(\u001B[49m\n\u001B[0;32m   1706\u001B[0m \u001B[43m    \u001B[49m\u001B[43mf\u001B[49m\u001B[43m,\u001B[49m\n\u001B[0;32m   1707\u001B[0m \u001B[43m    \u001B[49m\u001B[43mmode\u001B[49m\u001B[43m,\u001B[49m\n\u001B[0;32m   1708\u001B[0m \u001B[43m    \u001B[49m\u001B[43mencoding\u001B[49m\u001B[38;5;241;43m=\u001B[39;49m\u001B[38;5;28;43mself\u001B[39;49m\u001B[38;5;241;43m.\u001B[39;49m\u001B[43moptions\u001B[49m\u001B[38;5;241;43m.\u001B[39;49m\u001B[43mget\u001B[49m\u001B[43m(\u001B[49m\u001B[38;5;124;43m\"\u001B[39;49m\u001B[38;5;124;43mencoding\u001B[39;49m\u001B[38;5;124;43m\"\u001B[39;49m\u001B[43m,\u001B[49m\u001B[43m \u001B[49m\u001B[38;5;28;43;01mNone\u001B[39;49;00m\u001B[43m)\u001B[49m\u001B[43m,\u001B[49m\n\u001B[0;32m   1709\u001B[0m \u001B[43m    \u001B[49m\u001B[43mcompression\u001B[49m\u001B[38;5;241;43m=\u001B[39;49m\u001B[38;5;28;43mself\u001B[39;49m\u001B[38;5;241;43m.\u001B[39;49m\u001B[43moptions\u001B[49m\u001B[38;5;241;43m.\u001B[39;49m\u001B[43mget\u001B[49m\u001B[43m(\u001B[49m\u001B[38;5;124;43m\"\u001B[39;49m\u001B[38;5;124;43mcompression\u001B[39;49m\u001B[38;5;124;43m\"\u001B[39;49m\u001B[43m,\u001B[49m\u001B[43m \u001B[49m\u001B[38;5;28;43;01mNone\u001B[39;49;00m\u001B[43m)\u001B[49m\u001B[43m,\u001B[49m\n\u001B[0;32m   1710\u001B[0m \u001B[43m    \u001B[49m\u001B[43mmemory_map\u001B[49m\u001B[38;5;241;43m=\u001B[39;49m\u001B[38;5;28;43mself\u001B[39;49m\u001B[38;5;241;43m.\u001B[39;49m\u001B[43moptions\u001B[49m\u001B[38;5;241;43m.\u001B[39;49m\u001B[43mget\u001B[49m\u001B[43m(\u001B[49m\u001B[38;5;124;43m\"\u001B[39;49m\u001B[38;5;124;43mmemory_map\u001B[39;49m\u001B[38;5;124;43m\"\u001B[39;49m\u001B[43m,\u001B[49m\u001B[43m \u001B[49m\u001B[38;5;28;43;01mFalse\u001B[39;49;00m\u001B[43m)\u001B[49m\u001B[43m,\u001B[49m\n\u001B[0;32m   1711\u001B[0m \u001B[43m    \u001B[49m\u001B[43mis_text\u001B[49m\u001B[38;5;241;43m=\u001B[39;49m\u001B[43mis_text\u001B[49m\u001B[43m,\u001B[49m\n\u001B[0;32m   1712\u001B[0m \u001B[43m    \u001B[49m\u001B[43merrors\u001B[49m\u001B[38;5;241;43m=\u001B[39;49m\u001B[38;5;28;43mself\u001B[39;49m\u001B[38;5;241;43m.\u001B[39;49m\u001B[43moptions\u001B[49m\u001B[38;5;241;43m.\u001B[39;49m\u001B[43mget\u001B[49m\u001B[43m(\u001B[49m\u001B[38;5;124;43m\"\u001B[39;49m\u001B[38;5;124;43mencoding_errors\u001B[39;49m\u001B[38;5;124;43m\"\u001B[39;49m\u001B[43m,\u001B[49m\u001B[43m \u001B[49m\u001B[38;5;124;43m\"\u001B[39;49m\u001B[38;5;124;43mstrict\u001B[39;49m\u001B[38;5;124;43m\"\u001B[39;49m\u001B[43m)\u001B[49m\u001B[43m,\u001B[49m\n\u001B[0;32m   1713\u001B[0m \u001B[43m    \u001B[49m\u001B[43mstorage_options\u001B[49m\u001B[38;5;241;43m=\u001B[39;49m\u001B[38;5;28;43mself\u001B[39;49m\u001B[38;5;241;43m.\u001B[39;49m\u001B[43moptions\u001B[49m\u001B[38;5;241;43m.\u001B[39;49m\u001B[43mget\u001B[49m\u001B[43m(\u001B[49m\u001B[38;5;124;43m\"\u001B[39;49m\u001B[38;5;124;43mstorage_options\u001B[39;49m\u001B[38;5;124;43m\"\u001B[39;49m\u001B[43m,\u001B[49m\u001B[43m \u001B[49m\u001B[38;5;28;43;01mNone\u001B[39;49;00m\u001B[43m)\u001B[49m\u001B[43m,\u001B[49m\n\u001B[0;32m   1714\u001B[0m \u001B[43m\u001B[49m\u001B[43m)\u001B[49m\n\u001B[0;32m   1715\u001B[0m \u001B[38;5;28;01massert\u001B[39;00m \u001B[38;5;28mself\u001B[39m\u001B[38;5;241m.\u001B[39mhandles \u001B[38;5;129;01mis\u001B[39;00m \u001B[38;5;129;01mnot\u001B[39;00m \u001B[38;5;28;01mNone\u001B[39;00m\n\u001B[0;32m   1716\u001B[0m f \u001B[38;5;241m=\u001B[39m \u001B[38;5;28mself\u001B[39m\u001B[38;5;241m.\u001B[39mhandles\u001B[38;5;241m.\u001B[39mhandle\n",
      "File \u001B[1;32m~\\PycharmProjects\\Stepik_statistic\\venv\\Lib\\site-packages\\pandas\\io\\common.py:863\u001B[0m, in \u001B[0;36mget_handle\u001B[1;34m(path_or_buf, mode, encoding, compression, memory_map, is_text, errors, storage_options)\u001B[0m\n\u001B[0;32m    858\u001B[0m \u001B[38;5;28;01melif\u001B[39;00m \u001B[38;5;28misinstance\u001B[39m(handle, \u001B[38;5;28mstr\u001B[39m):\n\u001B[0;32m    859\u001B[0m     \u001B[38;5;66;03m# Check whether the filename is to be opened in binary mode.\u001B[39;00m\n\u001B[0;32m    860\u001B[0m     \u001B[38;5;66;03m# Binary mode does not support 'encoding' and 'newline'.\u001B[39;00m\n\u001B[0;32m    861\u001B[0m     \u001B[38;5;28;01mif\u001B[39;00m ioargs\u001B[38;5;241m.\u001B[39mencoding \u001B[38;5;129;01mand\u001B[39;00m \u001B[38;5;124m\"\u001B[39m\u001B[38;5;124mb\u001B[39m\u001B[38;5;124m\"\u001B[39m \u001B[38;5;129;01mnot\u001B[39;00m \u001B[38;5;129;01min\u001B[39;00m ioargs\u001B[38;5;241m.\u001B[39mmode:\n\u001B[0;32m    862\u001B[0m         \u001B[38;5;66;03m# Encoding\u001B[39;00m\n\u001B[1;32m--> 863\u001B[0m         handle \u001B[38;5;241m=\u001B[39m \u001B[38;5;28;43mopen\u001B[39;49m\u001B[43m(\u001B[49m\n\u001B[0;32m    864\u001B[0m \u001B[43m            \u001B[49m\u001B[43mhandle\u001B[49m\u001B[43m,\u001B[49m\n\u001B[0;32m    865\u001B[0m \u001B[43m            \u001B[49m\u001B[43mioargs\u001B[49m\u001B[38;5;241;43m.\u001B[39;49m\u001B[43mmode\u001B[49m\u001B[43m,\u001B[49m\n\u001B[0;32m    866\u001B[0m \u001B[43m            \u001B[49m\u001B[43mencoding\u001B[49m\u001B[38;5;241;43m=\u001B[39;49m\u001B[43mioargs\u001B[49m\u001B[38;5;241;43m.\u001B[39;49m\u001B[43mencoding\u001B[49m\u001B[43m,\u001B[49m\n\u001B[0;32m    867\u001B[0m \u001B[43m            \u001B[49m\u001B[43merrors\u001B[49m\u001B[38;5;241;43m=\u001B[39;49m\u001B[43merrors\u001B[49m\u001B[43m,\u001B[49m\n\u001B[0;32m    868\u001B[0m \u001B[43m            \u001B[49m\u001B[43mnewline\u001B[49m\u001B[38;5;241;43m=\u001B[39;49m\u001B[38;5;124;43m\"\u001B[39;49m\u001B[38;5;124;43m\"\u001B[39;49m\u001B[43m,\u001B[49m\n\u001B[0;32m    869\u001B[0m \u001B[43m        \u001B[49m\u001B[43m)\u001B[49m\n\u001B[0;32m    870\u001B[0m     \u001B[38;5;28;01melse\u001B[39;00m:\n\u001B[0;32m    871\u001B[0m         \u001B[38;5;66;03m# Binary mode\u001B[39;00m\n\u001B[0;32m    872\u001B[0m         handle \u001B[38;5;241m=\u001B[39m \u001B[38;5;28mopen\u001B[39m(handle, ioargs\u001B[38;5;241m.\u001B[39mmode)\n",
      "\u001B[1;31mFileNotFoundError\u001B[0m: [Errno 2] No such file or directory: 'titanic.csv'"
     ]
    }
   ],
   "source": [
    "import pandas as pd\n",
    "import numpy as np\n",
    "import matplotlib.pyplot as plt\n",
    "import seaborn as sns\n",
    "import math\n",
    "import statsmodels.api as sm\n",
    "import statsmodels.formula.api as smf\n",
    "from scipy import stats\n",
    "\n",
    "\n",
    "df = pd.read_csv('titanic.csv')\n",
    "df.Survived.value_counts()\n",
    "np.log(342/549)\n",
    "glm_binom2 = smf.glm(formula=\"Survived ~ 1\",\n",
    "                     data=df, family=sm.families.Binomial())\n",
    "model = glm_binom2.fit()\n",
    "model.summary()\n",
    "np.exp(-0.4732877044469254) / (1 + np.exp(-0.4732877044469254))"
   ],
   "metadata": {
    "collapsed": false,
    "ExecuteTime": {
     "end_time": "2023-12-18T00:17:50.109852300Z",
     "start_time": "2023-12-18T00:17:27.179223Z"
    }
   }
  },
  {
   "cell_type": "markdown",
   "source": [
    "С помощью логистической регрессии без предикторов мы захотели узнать, правда ли, что сдавая Анатолию Дмитриевичу, легче провалить экзамен, чем сдать. В нашей выборке было 50 студентов. Часть из них сдала экзамен (положительный исход), а часть - нет (отрицательный исход). Свободный член нашей регрессии оказался равен -0.8472979. Сколько человек всё-таки сдало экзамен?"
   ],
   "metadata": {
    "collapsed": false
   }
  },
  {
   "cell_type": "code",
   "execution_count": 75,
   "outputs": [
    {
     "data": {
      "text/plain": "14.999999584065637"
     },
     "execution_count": 75,
     "metadata": {},
     "output_type": "execute_result"
    }
   ],
   "source": [
    "intercept= -0.8472979\n",
    "p =1-(1/(1+math.exp(intercept)))\n",
    "p * 50\n"
   ],
   "metadata": {
    "collapsed": false,
    "ExecuteTime": {
     "end_time": "2023-12-18T00:31:52.998879900Z",
     "start_time": "2023-12-18T00:31:52.984600100Z"
    }
   }
  },
  {
   "cell_type": "markdown",
   "source": [
    "**Модель с двумя номинативными предикторами**\n",
    "\n",
    "Потренируемся считать количество коэффициентов в модели. Сколько коэффициентов (включая интерцепт) будет в логистической регрессии, в которой мы предсказываем вероятность победы футбольной команды по тому, играет она дома или в гостях, а также по тому, в рамках какого турнира проводится игра (регулярный чемпионат, кубок страны или лига чемпионов) без взаимодействия предикторов?\n",
    "\n",
    "1. Интерцепт: Дома - Регулярный чемпионат\n",
    "2. В гостях vs Интерцепт\n",
    "3. Кубок страны  vs Интерцепт\n",
    "4. Лига чемпионов vs Интерцепт"
   ],
   "metadata": {
    "collapsed": false
   }
  },
  {
   "cell_type": "markdown",
   "source": [
    "После того как вы восстановили формулу регрессии в предыдущем примере, рассчитайте с её помощью вероятность снять головную боль после приёма настоящего лекарства мужчиной.\n",
    "\n",
    "Ответ укажите с точностью хотя бы до двух значащих цифр\n",
    "1. x = (интерцепт) + (эффект принадлежности к мужскому полу) + (эффект лечения) + (эффект лечения у мужчин)\n",
    "2. exp(x)/(1+exp(x))"
   ],
   "metadata": {
    "collapsed": false
   }
  },
  {
   "cell_type": "code",
   "execution_count": 82,
   "outputs": [
    {
     "data": {
      "text/plain": "0.8334113864245404"
     },
     "execution_count": 82,
     "metadata": {},
     "output_type": "execute_result"
    }
   ],
   "source": [
    "Intercept=-1.15\n",
    "SexMale= 1\n",
    "ConditionPlacebo= 0\n",
    "ConditionTreatment= 1\n",
    "SexMale_ConditionPlacebo= 0\n",
    "SexMale_ConditionTreatment= 1\n",
    "x= Intercept+0.8*SexMale +0.82*ConditionPlacebo+2.13*ConditionTreatment+16.11*SexMale_ConditionPlacebo-0.17*SexMale_ConditionTreatment\n",
    "p = math.exp(x)/(1+math.exp(x))\n",
    "p"
   ],
   "metadata": {
    "collapsed": false,
    "ExecuteTime": {
     "end_time": "2023-12-19T06:58:57.372491200Z",
     "start_time": "2023-12-19T06:58:57.322825300Z"
    }
   }
  },
  {
   "cell_type": "markdown",
   "source": [
    "Астрологи объявили, что в ближайшем будущем нас ждёт месяц получения дипломов. Давайте проверим предсказания астрологов и построим логистическую регрессию, в которой будем предсказывать вероятность получить красный диплом по полу и знаку зодиака. Сколько коэффициентов (включая intercept и взаимодействия факторов) получится в нашей  модели?\n",
    "\n",
    "1 коэффициент - интерсепт (пол1 + знак зодиака1)\n",
    "1 коэффициент - пол2\n",
    "11 коэффициентов -- знак зодиака2 - знак зодиака12\n",
    "11 коэффициентов -- пол2*знак зодиака2 -- -- пол2 * знак зодиака12."
   ],
   "metadata": {
    "collapsed": false
   }
  },
  {
   "cell_type": "markdown",
   "source": [
    "# Когда нужно использовать непараметрические методы и почему?"
   ],
   "metadata": {
    "collapsed": false
   }
  },
  {
   "cell_type": "code",
   "execution_count": 83,
   "outputs": [
    {
     "data": {
      "text/plain": "<Figure size 640x480 with 1 Axes>",
      "image/png": "[encoded data removed]"
     },
     "metadata": {},
     "output_type": "display_data"
    }
   ],
   "source": [
    "import numpy as np\n",
    "import scipy.stats as ss\n",
    "import matplotlib.pyplot as plt\n",
    "\n",
    "\n",
    "\n",
    "def get_gaussian_density(dataset):\n",
    "    ''' Гауссово распределение, полученное на основе выборки\n",
    "\n",
    "        :param dataset: массив значений\n",
    "    '''\n",
    "\n",
    "    density = ss.gaussian_kde(dataset)\n",
    "    density.covariance_factor = lambda : 0.25\n",
    "    density._compute_covariance()\n",
    "\n",
    "    min_x, max_x = np.percentile(dataset, [0, 100])\n",
    "\n",
    "    return np.linspace(min_x, max_x, 200), density\n",
    "\n",
    "\n",
    "\n",
    "\n",
    "mu, sigma = 0, 1 # Среднее и стандартное отклонение\n",
    "rnd = np.random.normal(mu, sigma, 10000)  # Выборка случайно распределенной величины\n",
    "\n",
    "\n",
    "# Случайно выбираем по 3 пробы, сортируем их\n",
    "random_samples = (\n",
    "  sorted(np.random.choice(rnd, 3))\n",
    "  for i in range(10000)\n",
    ")\n",
    "\n",
    "# Zip функция - без комментариев (функциональное программирование, есть на Вики)\n",
    "# на выходе получаем массивы минимальных, средних и максимальных значений\n",
    "rnd1, rnd2, rnd3 = zip(*random_samples)\n",
    "\n",
    "\n",
    "# Гистограмма частот распределения случайной величины (опционально)\n",
    "counts_1, x_range_1, ignored = plt.hist(rnd1, 30, density=True, histtype='barstacked')\n",
    "counts_2, x_range_2, ignored = plt.hist(rnd2, 30, density=True, histtype='barstacked')\n",
    "counts_3, x_range_3, ignored = plt.hist(rnd3, 30, density=True, histtype='barstacked')\n",
    "\n",
    "\n",
    "# Гауссова оценка плотности ядра (приближение к гладкой функции)\n",
    "x1, linear_1 = get_gaussian_density(rnd1)\n",
    "x2, linear_2 = get_gaussian_density(rnd2)\n",
    "x3, linear_3 = get_gaussian_density(rnd3)\n",
    "\n",
    "\n",
    "plt.plot(x1, linear_1(x1))\n",
    "plt.plot(x2, linear_2(x2))\n",
    "plt.plot(x3, linear_3(x3))\n",
    "\n",
    "\n",
    "plt.show()"
   ],
   "metadata": {
    "collapsed": false,
    "ExecuteTime": {
     "end_time": "2023-12-19T07:34:07.597127700Z",
     "start_time": "2023-12-19T07:33:59.181608Z"
    }
   }
  },
  {
   "cell_type": "code",
   "execution_count": 4,
   "outputs": [
    {
     "name": "stderr",
     "output_type": "stream",
     "text": [
      "C:\\Users\\elavrukhina\\PycharmProjects\\Stepik_statistic\\venv\\Lib\\site-packages\\sklearn\\cluster\\_kmeans.py:1416: FutureWarning: The default value of `n_init` will change from 10 to 'auto' in 1.4. Set the value of `n_init` explicitly to suppress the warning\n",
      "  super()._check_params_vs_input(X, default_n_init=10)\n"
     ]
    },
    {
     "name": "stdout",
     "output_type": "stream",
     "text": [
      "[[3. 5.]]\n",
      "146.0\n"
     ]
    }
   ],
   "source": [
    "# Питонистам важно понимать как каждый из рассматриваемых методов реализуется на Питоне\n",
    "\n",
    "from sklearn.cluster import KMeans\n",
    "import numpy as np\n",
    "\n",
    "# Запишем координаты точек в виде массива numpy\n",
    "X = np.array([[-3, 3], [1, 4], [2, 6], [3, 8], [5, 2], [6, 11], [7, 1]])\n",
    "# Обучим модель KMeans на нашем массиве с одним кластером\n",
    "kmeans = KMeans(n_clusters=1).fit(X)\n",
    "# Выведем координаты центроида данного кластера\n",
    "print(kmeans.cluster_centers_)\n",
    "# Выведем сумму квадратов расстояний точек от центроида = аттрибут модели kmeans\n",
    "print(kmeans.inertia_)"
   ],
   "metadata": {
    "collapsed": false,
    "ExecuteTime": {
     "end_time": "2023-12-24T12:23:18.965447Z",
     "start_time": "2023-12-24T12:23:10.614237300Z"
    }
   }
  }
 ],
 "metadata": {
  "kernelspec": {
   "display_name": "Python 3",
   "language": "python",
   "name": "python3"
  },
  "language_info": {
   "codemirror_mode": {
    "name": "ipython",
    "version": 2
   },
   "file_extension": ".py",
   "mimetype": "text/x-python",
   "name": "python",
   "nbconvert_exporter": "python",
   "pygments_lexer": "ipython2",
   "version": "2.7.6"
  }
 },
 "nbformat": 4,
 "nbformat_minor": 0
}
